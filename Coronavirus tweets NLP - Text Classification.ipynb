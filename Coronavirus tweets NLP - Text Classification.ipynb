{
 "cells": [
  {
   "cell_type": "code",
   "execution_count": 1,
   "id": "d42c3143",
   "metadata": {},
   "outputs": [],
   "source": [
    "import pandas as pd\n",
    "import re\n",
    "import nltk\n",
    "from nltk.corpus import stopwords\n",
    "from nltk.stem.porter import PorterStemmer\n",
    "from sklearn.feature_extraction.text import CountVectorizer\n",
    "from sklearn.model_selection import train_test_split\n",
    "from sklearn.svm import SVC\n",
    "from sklearn.tree import DecisionTreeClassifier\n",
    "from sklearn.ensemble import RandomForestClassifier\n",
    "from sklearn.naive_bayes import GaussianNB, MultinomialNB, BernoulliNB\n",
    "from sklearn.metrics import accuracy_score, confusion_matrix, classification_report\n",
    "\n",
    "import warnings\n",
    "warnings.filterwarnings('ignore')"
   ]
  },
  {
   "cell_type": "code",
   "execution_count": 2,
   "id": "cb0af872",
   "metadata": {},
   "outputs": [],
   "source": [
    "train = pd.read_csv('Corona_NLP_train.csv',  encoding='latin1')\n",
    "test = pd.read_csv('Corona_NLP_test.csv', encoding='latin1')\n",
    "data = pd.concat([train, test], ignore_index=True)"
   ]
  },
  {
   "cell_type": "code",
   "execution_count": 3,
   "id": "aa46d3a8",
   "metadata": {},
   "outputs": [
    {
     "data": {
      "text/html": [
       "<div>\n",
       "<style scoped>\n",
       "    .dataframe tbody tr th:only-of-type {\n",
       "        vertical-align: middle;\n",
       "    }\n",
       "\n",
       "    .dataframe tbody tr th {\n",
       "        vertical-align: top;\n",
       "    }\n",
       "\n",
       "    .dataframe thead th {\n",
       "        text-align: right;\n",
       "    }\n",
       "</style>\n",
       "<table border=\"1\" class=\"dataframe\">\n",
       "  <thead>\n",
       "    <tr style=\"text-align: right;\">\n",
       "      <th></th>\n",
       "      <th>UserName</th>\n",
       "      <th>ScreenName</th>\n",
       "      <th>Location</th>\n",
       "      <th>TweetAt</th>\n",
       "      <th>OriginalTweet</th>\n",
       "      <th>Sentiment</th>\n",
       "    </tr>\n",
       "  </thead>\n",
       "  <tbody>\n",
       "    <tr>\n",
       "      <th>0</th>\n",
       "      <td>3799</td>\n",
       "      <td>48751</td>\n",
       "      <td>London</td>\n",
       "      <td>16-03-2020</td>\n",
       "      <td>@MeNyrbie @Phil_Gahan @Chrisitv https://t.co/i...</td>\n",
       "      <td>Neutral</td>\n",
       "    </tr>\n",
       "    <tr>\n",
       "      <th>1</th>\n",
       "      <td>3800</td>\n",
       "      <td>48752</td>\n",
       "      <td>UK</td>\n",
       "      <td>16-03-2020</td>\n",
       "      <td>advice Talk to your neighbours family to excha...</td>\n",
       "      <td>Positive</td>\n",
       "    </tr>\n",
       "    <tr>\n",
       "      <th>2</th>\n",
       "      <td>3801</td>\n",
       "      <td>48753</td>\n",
       "      <td>Vagabonds</td>\n",
       "      <td>16-03-2020</td>\n",
       "      <td>Coronavirus Australia: Woolworths to give elde...</td>\n",
       "      <td>Positive</td>\n",
       "    </tr>\n",
       "    <tr>\n",
       "      <th>3</th>\n",
       "      <td>3802</td>\n",
       "      <td>48754</td>\n",
       "      <td>NaN</td>\n",
       "      <td>16-03-2020</td>\n",
       "      <td>My food stock is not the only one which is emp...</td>\n",
       "      <td>Positive</td>\n",
       "    </tr>\n",
       "    <tr>\n",
       "      <th>4</th>\n",
       "      <td>3803</td>\n",
       "      <td>48755</td>\n",
       "      <td>NaN</td>\n",
       "      <td>16-03-2020</td>\n",
       "      <td>Me, ready to go at supermarket during the #COV...</td>\n",
       "      <td>Extremely Negative</td>\n",
       "    </tr>\n",
       "  </tbody>\n",
       "</table>\n",
       "</div>"
      ],
      "text/plain": [
       "   UserName  ScreenName   Location     TweetAt  \\\n",
       "0      3799       48751     London  16-03-2020   \n",
       "1      3800       48752         UK  16-03-2020   \n",
       "2      3801       48753  Vagabonds  16-03-2020   \n",
       "3      3802       48754        NaN  16-03-2020   \n",
       "4      3803       48755        NaN  16-03-2020   \n",
       "\n",
       "                                       OriginalTweet           Sentiment  \n",
       "0  @MeNyrbie @Phil_Gahan @Chrisitv https://t.co/i...             Neutral  \n",
       "1  advice Talk to your neighbours family to excha...            Positive  \n",
       "2  Coronavirus Australia: Woolworths to give elde...            Positive  \n",
       "3  My food stock is not the only one which is emp...            Positive  \n",
       "4  Me, ready to go at supermarket during the #COV...  Extremely Negative  "
      ]
     },
     "execution_count": 3,
     "metadata": {},
     "output_type": "execute_result"
    }
   ],
   "source": [
    "data.head()"
   ]
  },
  {
   "cell_type": "code",
   "execution_count": 4,
   "id": "9cb2d685",
   "metadata": {},
   "outputs": [
    {
     "data": {
      "text/plain": [
       "(44955, 6)"
      ]
     },
     "execution_count": 4,
     "metadata": {},
     "output_type": "execute_result"
    }
   ],
   "source": [
    "data.shape"
   ]
  },
  {
   "cell_type": "code",
   "execution_count": 5,
   "id": "64e3e6a9",
   "metadata": {},
   "outputs": [],
   "source": [
    "data.drop(columns=['UserName', 'ScreenName', 'Location', 'TweetAt'], axis=1, inplace=True)"
   ]
  },
  {
   "cell_type": "code",
   "execution_count": 6,
   "id": "5d1077ce",
   "metadata": {},
   "outputs": [
    {
     "data": {
      "text/plain": [
       "\"Me, ready to go at supermarket during the #COVID19 outbreak.\\r\\r\\n\\r\\r\\nNot because I'm paranoid, but because my food stock is litteraly empty. The #coronavirus is a serious thing, but please, don't panic. It causes shortage...\\r\\r\\n\\r\\r\\n#CoronavirusFrance #restezchezvous #StayAtHome #confinement https://t.co/usmuaLq72n\""
      ]
     },
     "execution_count": 6,
     "metadata": {},
     "output_type": "execute_result"
    }
   ],
   "source": [
    "data['OriginalTweet'][4]"
   ]
  },
  {
   "cell_type": "markdown",
   "id": "02c36b91",
   "metadata": {},
   "source": [
    "## Encoding"
   ]
  },
  {
   "cell_type": "code",
   "execution_count": 7,
   "id": "c961c07d",
   "metadata": {},
   "outputs": [
    {
     "data": {
      "text/plain": [
       "Positive              12369\n",
       "Negative              10958\n",
       "Neutral                8332\n",
       "Extremely Positive     7223\n",
       "Extremely Negative     6073\n",
       "Name: Sentiment, dtype: int64"
      ]
     },
     "execution_count": 7,
     "metadata": {},
     "output_type": "execute_result"
    }
   ],
   "source": [
    "data['Sentiment'].value_counts()"
   ]
  },
  {
   "cell_type": "code",
   "execution_count": 8,
   "id": "cf902ecd",
   "metadata": {},
   "outputs": [],
   "source": [
    "data['Sentiment'].replace({'Positive' : 0, 'Negative' : 1, 'Neutral' : 2, 'Extremely Positive' : 0, 'Extremely Negative' : 1}, inplace= True)"
   ]
  },
  {
   "cell_type": "code",
   "execution_count": 9,
   "id": "5dd8ea53",
   "metadata": {
    "scrolled": true
   },
   "outputs": [
    {
     "data": {
      "text/html": [
       "<div>\n",
       "<style scoped>\n",
       "    .dataframe tbody tr th:only-of-type {\n",
       "        vertical-align: middle;\n",
       "    }\n",
       "\n",
       "    .dataframe tbody tr th {\n",
       "        vertical-align: top;\n",
       "    }\n",
       "\n",
       "    .dataframe thead th {\n",
       "        text-align: right;\n",
       "    }\n",
       "</style>\n",
       "<table border=\"1\" class=\"dataframe\">\n",
       "  <thead>\n",
       "    <tr style=\"text-align: right;\">\n",
       "      <th></th>\n",
       "      <th>OriginalTweet</th>\n",
       "      <th>Sentiment</th>\n",
       "    </tr>\n",
       "  </thead>\n",
       "  <tbody>\n",
       "    <tr>\n",
       "      <th>0</th>\n",
       "      <td>@MeNyrbie @Phil_Gahan @Chrisitv https://t.co/i...</td>\n",
       "      <td>2</td>\n",
       "    </tr>\n",
       "    <tr>\n",
       "      <th>1</th>\n",
       "      <td>advice Talk to your neighbours family to excha...</td>\n",
       "      <td>0</td>\n",
       "    </tr>\n",
       "    <tr>\n",
       "      <th>2</th>\n",
       "      <td>Coronavirus Australia: Woolworths to give elde...</td>\n",
       "      <td>0</td>\n",
       "    </tr>\n",
       "    <tr>\n",
       "      <th>3</th>\n",
       "      <td>My food stock is not the only one which is emp...</td>\n",
       "      <td>0</td>\n",
       "    </tr>\n",
       "    <tr>\n",
       "      <th>4</th>\n",
       "      <td>Me, ready to go at supermarket during the #COV...</td>\n",
       "      <td>1</td>\n",
       "    </tr>\n",
       "  </tbody>\n",
       "</table>\n",
       "</div>"
      ],
      "text/plain": [
       "                                       OriginalTweet  Sentiment\n",
       "0  @MeNyrbie @Phil_Gahan @Chrisitv https://t.co/i...          2\n",
       "1  advice Talk to your neighbours family to excha...          0\n",
       "2  Coronavirus Australia: Woolworths to give elde...          0\n",
       "3  My food stock is not the only one which is emp...          0\n",
       "4  Me, ready to go at supermarket during the #COV...          1"
      ]
     },
     "execution_count": 9,
     "metadata": {},
     "output_type": "execute_result"
    }
   ],
   "source": [
    "data.head()"
   ]
  },
  {
   "cell_type": "markdown",
   "id": "6c2a0249",
   "metadata": {},
   "source": [
    "## Text Preprocessing"
   ]
  },
  {
   "cell_type": "code",
   "execution_count": 10,
   "id": "4720d2f1",
   "metadata": {},
   "outputs": [],
   "source": [
    "def cleaner(text):\n",
    "    \n",
    "    # remove urls\n",
    "    text = re.sub(r'http\\S+', ' ', text)\n",
    "    \n",
    "    # remove html tags\n",
    "    text = re.sub(r'<.*?>',' ', text)\n",
    "    \n",
    "    # remove digits\n",
    "    text = re.sub(r'\\d+',' ', text)\n",
    "    \n",
    "    # remove hashtags\n",
    "    text = re.sub(r'#\\w+',' ', text)\n",
    "    \n",
    "    # remove mentions\n",
    "    text = re.sub(r'@\\w+',' ', text)\n",
    "    \n",
    "    # remove \\r\\r\\n\\r\\r\\n\n",
    "    text = re.sub(r'[\\r\\n]+', ' ', text)\n",
    "    \n",
    "    # remove ellipsis\n",
    "    text = re.sub(r'\\.\\.\\.', ' ', text)\n",
    "    \n",
    "    return  text\n",
    "\n",
    "data['OriginalTweet'] = data['OriginalTweet'].apply(cleaner)"
   ]
  },
  {
   "cell_type": "code",
   "execution_count": 11,
   "id": "012451b1",
   "metadata": {},
   "outputs": [
    {
     "data": {
      "text/plain": [
       "\"Me, ready to go at supermarket during the    outbreak. Not because I'm paranoid, but because my food stock is litteraly empty. The   is a serious thing, but please, don't panic. It causes shortage           \""
      ]
     },
     "execution_count": 11,
     "metadata": {},
     "output_type": "execute_result"
    }
   ],
   "source": [
    "data['OriginalTweet'][4]"
   ]
  },
  {
   "cell_type": "markdown",
   "id": "74db2d53",
   "metadata": {},
   "source": [
    "## Convert to lower"
   ]
  },
  {
   "cell_type": "code",
   "execution_count": 12,
   "id": "eacfe19f",
   "metadata": {},
   "outputs": [],
   "source": [
    "def convert_lower(text):\n",
    "    return text.lower()\n",
    "\n",
    "data['OriginalTweet'] = data['OriginalTweet'].apply(convert_lower)"
   ]
  },
  {
   "cell_type": "markdown",
   "id": "da883528",
   "metadata": {},
   "source": [
    "## Remove stop words"
   ]
  },
  {
   "cell_type": "code",
   "execution_count": 13,
   "id": "a1b567ab",
   "metadata": {},
   "outputs": [],
   "source": [
    "def remove_stopwords(text):\n",
    "    x = []\n",
    "    for i in text.split():\n",
    "        if i not in stopwords.words('english'):\n",
    "            x.append(i)\n",
    "    y = x[:]\n",
    "    x.clear()\n",
    "    return y\n",
    "\n",
    "data['OriginalTweet'] = data['OriginalTweet'].apply(remove_stopwords)"
   ]
  },
  {
   "cell_type": "code",
   "execution_count": 14,
   "id": "34d4d287",
   "metadata": {},
   "outputs": [
    {
     "data": {
      "text/plain": [
       "['me,',\n",
       " 'ready',\n",
       " 'go',\n",
       " 'supermarket',\n",
       " 'outbreak.',\n",
       " \"i'm\",\n",
       " 'paranoid,',\n",
       " 'food',\n",
       " 'stock',\n",
       " 'litteraly',\n",
       " 'empty.',\n",
       " 'serious',\n",
       " 'thing,',\n",
       " 'please,',\n",
       " 'panic.',\n",
       " 'causes',\n",
       " 'shortage']"
      ]
     },
     "execution_count": 14,
     "metadata": {},
     "output_type": "execute_result"
    }
   ],
   "source": [
    "data['OriginalTweet'][4]"
   ]
  },
  {
   "cell_type": "markdown",
   "id": "2ca8ad1c",
   "metadata": {},
   "source": [
    "## Stemming"
   ]
  },
  {
   "cell_type": "code",
   "execution_count": 15,
   "id": "2d9293fb",
   "metadata": {},
   "outputs": [],
   "source": [
    "ps = PorterStemmer()\n",
    "\n",
    "y = []\n",
    "\n",
    "def stem_words(text):\n",
    "    for i in text:\n",
    "        y.append(ps.stem(i))\n",
    "    z = y[:]\n",
    "    y.clear()\n",
    "    return z\n",
    "\n",
    "data['OriginalTweet'] = data['OriginalTweet'].apply(stem_words)"
   ]
  },
  {
   "cell_type": "code",
   "execution_count": 16,
   "id": "c0bd55bd",
   "metadata": {},
   "outputs": [],
   "source": [
    "def list_to_string(text):\n",
    "    return ' '.join(text)\n",
    "\n",
    "data['OriginalTweet'] = data['OriginalTweet'].apply(list_to_string)"
   ]
  },
  {
   "cell_type": "markdown",
   "id": "4b24b50c",
   "metadata": {},
   "source": [
    "## Vectorization"
   ]
  },
  {
   "cell_type": "code",
   "execution_count": 17,
   "id": "9096b98c",
   "metadata": {},
   "outputs": [],
   "source": [
    "cv = CountVectorizer(max_features=5000)\n",
    "\n",
    "X = cv.fit_transform(data['OriginalTweet']).toarray()"
   ]
  },
  {
   "cell_type": "code",
   "execution_count": 18,
   "id": "273293e7",
   "metadata": {},
   "outputs": [
    {
     "data": {
      "text/plain": [
       "(44955, 5000)"
      ]
     },
     "execution_count": 18,
     "metadata": {},
     "output_type": "execute_result"
    }
   ],
   "source": [
    "X.shape"
   ]
  },
  {
   "cell_type": "code",
   "execution_count": 19,
   "id": "eb1d51d0",
   "metadata": {},
   "outputs": [],
   "source": [
    "y = data.iloc[:,-1].values"
   ]
  },
  {
   "cell_type": "code",
   "execution_count": 20,
   "id": "6b13e12f",
   "metadata": {},
   "outputs": [
    {
     "data": {
      "text/plain": [
       "(44955,)"
      ]
     },
     "execution_count": 20,
     "metadata": {},
     "output_type": "execute_result"
    }
   ],
   "source": [
    "y.shape"
   ]
  },
  {
   "cell_type": "markdown",
   "id": "23fb54ef",
   "metadata": {},
   "source": [
    "## Train test split"
   ]
  },
  {
   "cell_type": "code",
   "execution_count": 21,
   "id": "49463a4d",
   "metadata": {},
   "outputs": [],
   "source": [
    "X_train, X_test, y_train, y_test = train_test_split(X, y, test_size=0.2, random_state=42)"
   ]
  },
  {
   "cell_type": "code",
   "execution_count": 22,
   "id": "88f093c1",
   "metadata": {},
   "outputs": [
    {
     "data": {
      "text/plain": [
       "((35964, 5000), (8991, 5000), (35964,), (8991,))"
      ]
     },
     "execution_count": 22,
     "metadata": {},
     "output_type": "execute_result"
    }
   ],
   "source": [
    "X_train.shape, X_test.shape, y_train.shape, y_test.shape"
   ]
  },
  {
   "cell_type": "code",
   "execution_count": 23,
   "id": "492ccac3",
   "metadata": {},
   "outputs": [],
   "source": [
    "clf1 = GaussianNB()\n",
    "clf2 = MultinomialNB()\n",
    "clf3 = BernoulliNB()\n",
    "clf4 = SVC()\n",
    "clf5 = DecisionTreeClassifier()\n",
    "clf6 = RandomForestClassifier()"
   ]
  },
  {
   "cell_type": "code",
   "execution_count": 24,
   "id": "9234578a",
   "metadata": {},
   "outputs": [
    {
     "data": {
      "text/html": [
       "<style>#sk-container-id-1 {color: black;background-color: white;}#sk-container-id-1 pre{padding: 0;}#sk-container-id-1 div.sk-toggleable {background-color: white;}#sk-container-id-1 label.sk-toggleable__label {cursor: pointer;display: block;width: 100%;margin-bottom: 0;padding: 0.3em;box-sizing: border-box;text-align: center;}#sk-container-id-1 label.sk-toggleable__label-arrow:before {content: \"▸\";float: left;margin-right: 0.25em;color: #696969;}#sk-container-id-1 label.sk-toggleable__label-arrow:hover:before {color: black;}#sk-container-id-1 div.sk-estimator:hover label.sk-toggleable__label-arrow:before {color: black;}#sk-container-id-1 div.sk-toggleable__content {max-height: 0;max-width: 0;overflow: hidden;text-align: left;background-color: #f0f8ff;}#sk-container-id-1 div.sk-toggleable__content pre {margin: 0.2em;color: black;border-radius: 0.25em;background-color: #f0f8ff;}#sk-container-id-1 input.sk-toggleable__control:checked~div.sk-toggleable__content {max-height: 200px;max-width: 100%;overflow: auto;}#sk-container-id-1 input.sk-toggleable__control:checked~label.sk-toggleable__label-arrow:before {content: \"▾\";}#sk-container-id-1 div.sk-estimator input.sk-toggleable__control:checked~label.sk-toggleable__label {background-color: #d4ebff;}#sk-container-id-1 div.sk-label input.sk-toggleable__control:checked~label.sk-toggleable__label {background-color: #d4ebff;}#sk-container-id-1 input.sk-hidden--visually {border: 0;clip: rect(1px 1px 1px 1px);clip: rect(1px, 1px, 1px, 1px);height: 1px;margin: -1px;overflow: hidden;padding: 0;position: absolute;width: 1px;}#sk-container-id-1 div.sk-estimator {font-family: monospace;background-color: #f0f8ff;border: 1px dotted black;border-radius: 0.25em;box-sizing: border-box;margin-bottom: 0.5em;}#sk-container-id-1 div.sk-estimator:hover {background-color: #d4ebff;}#sk-container-id-1 div.sk-parallel-item::after {content: \"\";width: 100%;border-bottom: 1px solid gray;flex-grow: 1;}#sk-container-id-1 div.sk-label:hover label.sk-toggleable__label {background-color: #d4ebff;}#sk-container-id-1 div.sk-serial::before {content: \"\";position: absolute;border-left: 1px solid gray;box-sizing: border-box;top: 0;bottom: 0;left: 50%;z-index: 0;}#sk-container-id-1 div.sk-serial {display: flex;flex-direction: column;align-items: center;background-color: white;padding-right: 0.2em;padding-left: 0.2em;position: relative;}#sk-container-id-1 div.sk-item {position: relative;z-index: 1;}#sk-container-id-1 div.sk-parallel {display: flex;align-items: stretch;justify-content: center;background-color: white;position: relative;}#sk-container-id-1 div.sk-item::before, #sk-container-id-1 div.sk-parallel-item::before {content: \"\";position: absolute;border-left: 1px solid gray;box-sizing: border-box;top: 0;bottom: 0;left: 50%;z-index: -1;}#sk-container-id-1 div.sk-parallel-item {display: flex;flex-direction: column;z-index: 1;position: relative;background-color: white;}#sk-container-id-1 div.sk-parallel-item:first-child::after {align-self: flex-end;width: 50%;}#sk-container-id-1 div.sk-parallel-item:last-child::after {align-self: flex-start;width: 50%;}#sk-container-id-1 div.sk-parallel-item:only-child::after {width: 0;}#sk-container-id-1 div.sk-dashed-wrapped {border: 1px dashed gray;margin: 0 0.4em 0.5em 0.4em;box-sizing: border-box;padding-bottom: 0.4em;background-color: white;}#sk-container-id-1 div.sk-label label {font-family: monospace;font-weight: bold;display: inline-block;line-height: 1.2em;}#sk-container-id-1 div.sk-label-container {text-align: center;}#sk-container-id-1 div.sk-container {/* jupyter's `normalize.less` sets `[hidden] { display: none; }` but bootstrap.min.css set `[hidden] { display: none !important; }` so we also need the `!important` here to be able to override the default hidden behavior on the sphinx rendered scikit-learn.org. See: https://github.com/scikit-learn/scikit-learn/issues/21755 */display: inline-block !important;position: relative;}#sk-container-id-1 div.sk-text-repr-fallback {display: none;}</style><div id=\"sk-container-id-1\" class=\"sk-top-container\"><div class=\"sk-text-repr-fallback\"><pre>RandomForestClassifier()</pre><b>In a Jupyter environment, please rerun this cell to show the HTML representation or trust the notebook. <br />On GitHub, the HTML representation is unable to render, please try loading this page with nbviewer.org.</b></div><div class=\"sk-container\" hidden><div class=\"sk-item\"><div class=\"sk-estimator sk-toggleable\"><input class=\"sk-toggleable__control sk-hidden--visually\" id=\"sk-estimator-id-1\" type=\"checkbox\" checked><label for=\"sk-estimator-id-1\" class=\"sk-toggleable__label sk-toggleable__label-arrow\">RandomForestClassifier</label><div class=\"sk-toggleable__content\"><pre>RandomForestClassifier()</pre></div></div></div></div></div>"
      ],
      "text/plain": [
       "RandomForestClassifier()"
      ]
     },
     "execution_count": 24,
     "metadata": {},
     "output_type": "execute_result"
    }
   ],
   "source": [
    "clf1.fit(X_train, y_train)\n",
    "clf2.fit(X_train, y_train)\n",
    "clf3.fit(X_train, y_train)\n",
    "clf4.fit(X_train, y_train)\n",
    "clf5.fit(X_train, y_train)\n",
    "clf6.fit(X_train, y_train)"
   ]
  },
  {
   "cell_type": "code",
   "execution_count": 25,
   "id": "43d6d1a6",
   "metadata": {},
   "outputs": [],
   "source": [
    "y_pred1 = clf1.predict(X_test)\n",
    "y_pred2 = clf2.predict(X_test)\n",
    "y_pred3 = clf3.predict(X_test)\n",
    "y_pred4 = clf4.predict(X_test)\n",
    "y_pred5 = clf5.predict(X_test)\n",
    "y_pred6 = clf6.predict(X_test)"
   ]
  },
  {
   "cell_type": "code",
   "execution_count": 27,
   "id": "800dadd8",
   "metadata": {
    "scrolled": false
   },
   "outputs": [
    {
     "name": "stdout",
     "output_type": "stream",
     "text": [
      "GaussianNB:\n",
      "Accuracy Score:  0.4061839617395173\n",
      "Confusion Matrix:\n",
      "  [[1083  394 2440]\n",
      " [ 373 1093 1927]\n",
      " [ 101  104 1476]]\n",
      "Classification Report:\n",
      "                precision    recall  f1-score   support\n",
      "\n",
      "           0       0.70      0.28      0.40      3917\n",
      "           1       0.69      0.32      0.44      3393\n",
      "           2       0.25      0.88      0.39      1681\n",
      "\n",
      "    accuracy                           0.41      8991\n",
      "   macro avg       0.55      0.49      0.41      8991\n",
      "weighted avg       0.61      0.41      0.41      8991\n",
      "\n",
      "--------------------------------------------------------------------\n",
      "MultinomialNB:\n",
      "Accuracy Score:  0.6837949060171282\n",
      "Confusion Matrix:\n",
      "  [[2887  631  399]\n",
      " [ 587 2487  319]\n",
      " [ 484  423  774]]\n",
      "Classification Report:\n",
      "                precision    recall  f1-score   support\n",
      "\n",
      "           0       0.73      0.74      0.73      3917\n",
      "           1       0.70      0.73      0.72      3393\n",
      "           2       0.52      0.46      0.49      1681\n",
      "\n",
      "    accuracy                           0.68      8991\n",
      "   macro avg       0.65      0.64      0.65      8991\n",
      "weighted avg       0.68      0.68      0.68      8991\n",
      "\n",
      "--------------------------------------------------------------------\n",
      "BernoulliNB:\n",
      "Accuracy Score:  0.706150595039484\n",
      "Confusion Matrix:\n",
      "  [[2784  625  508]\n",
      " [ 568 2366  459]\n",
      " [ 256  226 1199]]\n",
      "Classification Report:\n",
      "                precision    recall  f1-score   support\n",
      "\n",
      "           0       0.77      0.71      0.74      3917\n",
      "           1       0.74      0.70      0.72      3393\n",
      "           2       0.55      0.71      0.62      1681\n",
      "\n",
      "    accuracy                           0.71      8991\n",
      "   macro avg       0.69      0.71      0.69      8991\n",
      "weighted avg       0.72      0.71      0.71      8991\n",
      "\n",
      "--------------------------------------------------------------------\n",
      "Support Vector Classifier:\n",
      "Accuracy Score:  0.7875653431208987\n",
      "Confusion Matrix:\n",
      "  [[3279  408  230]\n",
      " [ 505 2629  259]\n",
      " [ 263  245 1173]]\n",
      "Classification Report:\n",
      "                precision    recall  f1-score   support\n",
      "\n",
      "           0       0.81      0.84      0.82      3917\n",
      "           1       0.80      0.77      0.79      3393\n",
      "           2       0.71      0.70      0.70      1681\n",
      "\n",
      "    accuracy                           0.79      8991\n",
      "   macro avg       0.77      0.77      0.77      8991\n",
      "weighted avg       0.79      0.79      0.79      8991\n",
      "\n",
      "--------------------------------------------------------------------\n",
      "Decision Tree:\n",
      "Accuracy Score:  0.7127127127127127\n",
      "Confusion Matrix:\n",
      "  [[2905  730  282]\n",
      " [ 749 2334  310]\n",
      " [ 269  243 1169]]\n",
      "Classification Report:\n",
      "                precision    recall  f1-score   support\n",
      "\n",
      "           0       0.74      0.74      0.74      3917\n",
      "           1       0.71      0.69      0.70      3393\n",
      "           2       0.66      0.70      0.68      1681\n",
      "\n",
      "    accuracy                           0.71      8991\n",
      "   macro avg       0.70      0.71      0.71      8991\n",
      "weighted avg       0.71      0.71      0.71      8991\n",
      "\n",
      "--------------------------------------------------------------------\n",
      "Random Forest:\n",
      "Accuracy Score:  0.7776665554443333\n",
      "Confusion Matrix:\n",
      "  [[3232  456  229]\n",
      " [ 600 2518  275]\n",
      " [ 213  226 1242]]\n",
      "Classification Report:\n",
      "                precision    recall  f1-score   support\n",
      "\n",
      "           0       0.80      0.83      0.81      3917\n",
      "           1       0.79      0.74      0.76      3393\n",
      "           2       0.71      0.74      0.72      1681\n",
      "\n",
      "    accuracy                           0.78      8991\n",
      "   macro avg       0.77      0.77      0.77      8991\n",
      "weighted avg       0.78      0.78      0.78      8991\n",
      "\n",
      "--------------------------------------------------------------------\n"
     ]
    }
   ],
   "source": [
    "print('GaussianNB:')\n",
    "print('Accuracy Score: ',accuracy_score(y_test,y_pred1))\n",
    "print('Confusion Matrix:\\n ',confusion_matrix(y_test,y_pred1))\n",
    "print('Classification Report:\\n ',classification_report(y_test,y_pred1))\n",
    "print('--------------------------------------------------------------------')\n",
    "\n",
    "print('MultinomialNB:')\n",
    "print('Accuracy Score: ',accuracy_score(y_test,y_pred2))\n",
    "print('Confusion Matrix:\\n ',confusion_matrix(y_test,y_pred2))\n",
    "print('Classification Report:\\n ',classification_report(y_test,y_pred2))\n",
    "print('--------------------------------------------------------------------')\n",
    "\n",
    "print('BernoulliNB:')\n",
    "print('Accuracy Score: ',accuracy_score(y_test,y_pred3))\n",
    "print('Confusion Matrix:\\n ',confusion_matrix(y_test,y_pred3))\n",
    "print('Classification Report:\\n ',classification_report(y_test,y_pred3))\n",
    "print('--------------------------------------------------------------------')\n",
    "\n",
    "print('Support Vector Classifier:')\n",
    "print('Accuracy Score: ',accuracy_score(y_test,y_pred4))\n",
    "print('Confusion Matrix:\\n ',confusion_matrix(y_test,y_pred4))\n",
    "print('Classification Report:\\n ',classification_report(y_test,y_pred4))\n",
    "print('--------------------------------------------------------------------')\n",
    "\n",
    "print('Decision Tree:')\n",
    "print('Accuracy Score: ',accuracy_score(y_test,y_pred5))\n",
    "print('Confusion Matrix:\\n ',confusion_matrix(y_test,y_pred5))\n",
    "print('Classification Report:\\n ',classification_report(y_test,y_pred5))\n",
    "print('--------------------------------------------------------------------')\n",
    "\n",
    "print('Random Forest:')\n",
    "print('Accuracy Score: ',accuracy_score(y_test,y_pred6))\n",
    "print('Confusion Matrix:\\n ',confusion_matrix(y_test,y_pred6))\n",
    "print('Classification Report:\\n ',classification_report(y_test,y_pred6))\n",
    "print('--------------------------------------------------------------------')"
   ]
  },
  {
   "cell_type": "markdown",
   "id": "56b3a73a",
   "metadata": {},
   "source": [
    "## Thank you!"
   ]
  }
 ],
 "metadata": {
  "kernelspec": {
   "display_name": "Python 3 (ipykernel)",
   "language": "python",
   "name": "python3"
  },
  "language_info": {
   "codemirror_mode": {
    "name": "ipython",
    "version": 3
   },
   "file_extension": ".py",
   "mimetype": "text/x-python",
   "name": "python",
   "nbconvert_exporter": "python",
   "pygments_lexer": "ipython3",
   "version": "3.11.0"
  }
 },
 "nbformat": 4,
 "nbformat_minor": 5
}
